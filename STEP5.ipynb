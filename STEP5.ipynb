{
 "cells": [
  {
   "cell_type": "code",
   "execution_count": 21,
   "metadata": {
    "scrolled": true
   },
   "outputs": [
    {
     "name": "stdout",
     "output_type": "stream",
     "text": [
      "3291.6217214092458\n"
     ]
    }
   ],
   "source": [
    "import csv\n",
    "import itertools\n",
    "import math\n",
    "#２点間の距離を求める関数dest\n",
    "def dest(list1, list2):\n",
    "    l = list(map(lambda x,y:(x-y)**2, list1, list2))\n",
    "    s = math.sqrt(sum(l))\n",
    "    return s\n",
    "\n",
    "with open('input_0.csv','r') as f:\n",
    "    dataReader = csv.reader(f)\n",
    "    point = []\n",
    "    #csvファイルから点の座標を取り出しリストpointに入れる\n",
    "    for row in dataReader:\n",
    "        point.append(row)\n",
    "    del point[0]\n",
    "    floatpoint = []\n",
    "    for p in point:\n",
    "        floatp = list(map(float, p))\n",
    "        floatpoint.append(floatp)\n",
    "    #全ての並べ方をallに列挙\n",
    "    all = list(itertools.permutations(floatpoint[0:5]))\n",
    "    tekitou = []\n",
    "    for a in all:\n",
    "        destination = dest(a[0], a[1]) + dest(a[1], a[2]) + dest(a[2], a[3]) +dest(a[3],a[4]) + dest(a[4],a[0])\n",
    "        tekitou.append(destination)\n",
    "    print(min(tekitou))"
   ]
  },
  {
   "cell_type": "code",
   "execution_count": null,
   "metadata": {
    "collapsed": true
   },
   "outputs": [],
   "source": []
  }
 ],
 "metadata": {
  "kernelspec": {
   "display_name": "Python 3",
   "language": "python",
   "name": "python3"
  },
  "language_info": {
   "codemirror_mode": {
    "name": "ipython",
    "version": 3
   },
   "file_extension": ".py",
   "mimetype": "text/x-python",
   "name": "python",
   "nbconvert_exporter": "python",
   "pygments_lexer": "ipython3",
   "version": "3.6.3"
  }
 },
 "nbformat": 4,
 "nbformat_minor": 2
}
