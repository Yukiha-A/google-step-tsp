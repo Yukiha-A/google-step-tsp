{
 "cells": [
  {
   "cell_type": "code",
   "execution_count": 24,
   "metadata": {},
   "outputs": [],
   "source": [
    "#####たくさんの点を８つずつに分けてその中で総当たりする方法###\n",
    "import csv\n",
    "import itertools\n",
    "import math\n",
    "#２点間の距離を求める関数dest\n",
    "def dest(list1, list2):\n",
    "    l = list(map(lambda x,y:(x-y)**2, list1, list2))\n",
    "    s = math.sqrt(sum(l))\n",
    "    return s\n",
    "\n",
    "def arrangement(all_points, start_point, end_point):#all_points:８つの点のインデックスのリスト/start_point:始点/end_point:終点\n",
    "    with open('input_6.csv','r') as f:\n",
    "        dataReader = csv.reader(f)\n",
    "        point = []\n",
    "        #csvファイルから点の座標を取り出しリストpointに入れる\n",
    "        for row in dataReader:\n",
    "            point.append(row)\n",
    "        del point[0]\n",
    "        floatpoint = []\n",
    "        for p in point:\n",
    "            floatp = list(map(float, p))\n",
    "            floatpoint.append(floatp)\n",
    "        #点のリストから始点と終点を除く\n",
    "        all_points.remove(start_point)\n",
    "        all_points.remove(end_point)\n",
    "        #csvファイルの中のインデックスから座標に変換\n",
    "        chart_all_points = []\n",
    "        for j in all_points:\n",
    "            chart_all_points.append(floatpoint[j - 1])\n",
    "        #全ての並べ方をallに列挙\n",
    "        all = list(itertools.permutations(chart_all_points))\n",
    "        d = []\n",
    "        for a in all:\n",
    "            destination = dest(floatpoint[start_point - 1], a[0]) + dest(a[0], a[1]) + dest(a[1], a[2]) + dest(a[2], a[3]) +dest(a[3],a[4]) + dest(a[4],a[5]) + dest(a[5], floatpoint[end_point - 1])\n",
    "            d.append(destination)\n",
    "        print(min(d))"
   ]
  }
 ],
 "metadata": {
  "kernelspec": {
   "display_name": "Python 3",
   "language": "python",
   "name": "python3"
  },
  "language_info": {
   "codemirror_mode": {
    "name": "ipython",
    "version": 3
   },
   "file_extension": ".py",
   "mimetype": "text/x-python",
   "name": "python",
   "nbconvert_exporter": "python",
   "pygments_lexer": "ipython3",
   "version": "3.6.3"
  }
 },
 "nbformat": 4,
 "nbformat_minor": 2
}
